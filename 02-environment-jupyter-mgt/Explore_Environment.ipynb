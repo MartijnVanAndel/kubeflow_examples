{
 "cells": [
  {
   "cell_type": "markdown",
   "metadata": {},
   "source": [
    "### Show available memory and storage:"
   ]
  },
  {
   "cell_type": "code",
   "execution_count": null,
   "metadata": {},
   "outputs": [],
   "source": [
    "!cat /proc/meminfo | grep Mem"
   ]
  },
  {
   "cell_type": "code",
   "execution_count": 13,
   "metadata": {},
   "outputs": [
    {
     "name": "stdout",
     "output_type": "stream",
     "text": [
      "Filesystem                                                   Size  Used Avail Use% Mounted on\n",
      "overlay                                                       57G   50G  4.2G  93% /\n",
      "tmpfs                                                         64M     0   64M   0% /dev\n",
      "tmpfs                                                        4.9G     0  4.9G   0% /sys/fs/cgroup\n",
      "/dev/sda3                                                     57G   50G  4.2G  93% /etc/hosts\n",
      "/dev/mapper/roklvm-d06bb9bc-aa66-408e-9d60-85a519af1a10-era  976M  909M   24K 100% /home/jovyan\n",
      "tmpfs                                                        4.9G     0  4.9G   0% /dev/shm\n",
      "/dev/mapper/roklvm-7528cb03-8487-4a62-9c3f-1c112d1d1786-era  976M  470M  440M  52% /home/jovyan/ice-dev-01-vol-1\n",
      "tmpfs                                                        4.9G  8.0K  4.9G   1% /run/secrets/rok\n",
      "tmpfs                                                        4.9G   12K  4.9G   1% /run/secrets/kubernetes.io/serviceaccount\n",
      "tmpfs                                                        4.9G     0  4.9G   0% /proc/acpi\n",
      "tmpfs                                                        4.9G     0  4.9G   0% /proc/scsi\n",
      "tmpfs                                                        4.9G     0  4.9G   0% /sys/firmware\n"
     ]
    }
   ],
   "source": [
    "!df -h"
   ]
  },
  {
   "cell_type": "markdown",
   "metadata": {},
   "source": [
    "### Available packages:"
   ]
  },
  {
   "cell_type": "code",
   "execution_count": null,
   "metadata": {},
   "outputs": [],
   "source": [
    "import tensorflow as tf\n",
    "print('TensorFlow Version %s' % tf.__version__)"
   ]
  },
  {
   "cell_type": "code",
   "execution_count": null,
   "metadata": {},
   "outputs": [],
   "source": [
    "import sys\n",
    "print('Python Version %s' % sys.version)"
   ]
  },
  {
   "cell_type": "code",
   "execution_count": null,
   "metadata": {},
   "outputs": [],
   "source": [
    "!pip list"
   ]
  },
  {
   "cell_type": "code",
   "execution_count": null,
   "metadata": {},
   "outputs": [],
   "source": [
    "%%bash\n",
    "conda list"
   ]
  },
  {
   "cell_type": "code",
   "execution_count": null,
   "metadata": {},
   "outputs": [],
   "source": []
  }
 ],
 "metadata": {
  "kernelspec": {
   "display_name": "Python 3",
   "language": "python",
   "name": "python3"
  },
  "language_info": {
   "codemirror_mode": {
    "name": "ipython",
    "version": 3
   },
   "file_extension": ".py",
   "mimetype": "text/x-python",
   "name": "python",
   "nbconvert_exporter": "python",
   "pygments_lexer": "ipython3",
   "version": "3.6.7"
  }
 },
 "nbformat": 4,
 "nbformat_minor": 2
}
