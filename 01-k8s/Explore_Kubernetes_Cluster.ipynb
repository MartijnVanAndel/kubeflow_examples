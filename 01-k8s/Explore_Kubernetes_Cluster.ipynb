{
 "cells": [
  {
   "cell_type": "markdown",
   "metadata": {},
   "source": [
    "# `kubectl` Kubernetes CLI\n",
    "\n",
    "### Within your namespace:"
   ]
  },
  {
   "cell_type": "code",
   "execution_count": null,
   "metadata": {},
   "outputs": [],
   "source": [
    "!kubectl get pods"
   ]
  },
  {
   "cell_type": "code",
   "execution_count": null,
   "metadata": {},
   "outputs": [],
   "source": [
    "!kubectl describe pod [add name of your pod]"
   ]
  },
  {
   "cell_type": "code",
   "execution_count": null,
   "metadata": {},
   "outputs": [],
   "source": [
    "!kubectl logs [add name of your pod]-0 -c [add name of your pod]"
   ]
  },
  {
   "cell_type": "markdown",
   "metadata": {},
   "source": [
    "## As an Admin on the kubernetes cluster\n",
    "\n",
    "Terminal connect (in case of using Vagrant miniKF) \n",
    "```\n",
    "vagrant ssh\n",
    "```\n",
    "\n",
    "Show running pods in all namespaces with extra info:\n",
    "```\n",
    "kubectl get pods -A -o wide\n",
    "```\n",
    "\n",
    "### Install Istioctl to check version:\n",
    "```\n",
    "curl -sL https://istio.io/downloadIstioctl | sh -\n",
    "export PATH=$PATH:$HOME/.istioctl/bin\n",
    "```\n",
    "To check your istio version run:\n",
    "```\n",
    "istioctl version --short=false\n",
    "```"
   ]
  },
  {
   "cell_type": "code",
   "execution_count": null,
   "metadata": {},
   "outputs": [],
   "source": []
  }
 ],
 "metadata": {
  "kernelspec": {
   "display_name": "Python 3",
   "language": "python",
   "name": "python3"
  },
  "language_info": {
   "codemirror_mode": {
    "name": "ipython",
    "version": 3
   },
   "file_extension": ".py",
   "mimetype": "text/x-python",
   "name": "python",
   "nbconvert_exporter": "python",
   "pygments_lexer": "ipython3",
   "version": "3.6.8"
  }
 },
 "nbformat": 4,
 "nbformat_minor": 4
}
